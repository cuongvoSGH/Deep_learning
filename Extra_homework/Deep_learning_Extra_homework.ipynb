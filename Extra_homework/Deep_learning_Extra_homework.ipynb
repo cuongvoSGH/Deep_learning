{
 "cells": [
  {
   "cell_type": "markdown",
   "metadata": {},
   "source": [
    "### Question 1:"
   ]
  },
  {
   "cell_type": "markdown",
   "metadata": {},
   "source": [
    "<b> Prove that the Kullback-Leibler divergence for two normal distributions: $\\mathcal{N}(\\mu,\\sigma)$ and $\\mathcal{N}(0,1)$ is equal to: </b>\n",
    "\n",
    "$$d_{KL}(\\mathcal{N}(\\mu,\\sigma)||\\mathcal{N}(0,1)) = \\frac{1}{2}(\\sigma^2 + \\mu^2  - 1 - 2\\log\\sigma) $$ \n",
    "<b>(5 points)</b>"
   ]
  },
  {
   "cell_type": "markdown",
   "metadata": {},
   "source": [
    "KL divergence measures how much one probability distribution 𝑃 differs from another distribution 𝑄. Intuitively, it answers the question: \"How much extra information is needed to describe 𝑃 using 𝑄?\""
   ]
  },
  {
   "cell_type": "markdown",
   "metadata": {},
   "source": [
    "The KL formula is: \n",
    "$$d_{KL}(\\mathcal{P}||\\mathcal{Q}) = \\int P(x)\\log\\frac{P(x)}{Q(x)}dx $$\n",
    "\n",
    "The KL formula is used to compared how the two distributions behave at every point of X\n",
    "\n",
    "Formula $ \\log\\frac{P(x)}{Q(x)} $ measure the likelihood, if P(x) and Q(x) are similar, the ratio will close to 1 and log it will close to 0. If not the ratio becomes large (different than 0)\n",
    "\n",
    "The variance $ \\sigma^2 $ tells us how wide or narrow the bell curve of P(x) is. If $\\sigma <>  1$ P(x) is either more spread out or more concentrated than Q(x), contributing to the difference.\n",
    "This leads to terms like $\\log\\sigma$ (from normalization) and $\\sigma^2$ (from the curve's shape).\n",
    "\n",
    "The mean $\\mu$ describes how shifted P(x) is compared to Q(x).\n",
    "If $\\mu <> 0$ P(x) is centered at a different location than Q(x).\n",
    "This adds terms involving $\\mu^2$, reflecting the squared distance between the means.\n",
    "\n",
    "When we integrate over all , the result combines the contributions of  and  The final KL divergence formula is: $$ D_{KL} = \\frac{1}{2}(\\sigma^2 + \\mu^2 - 1 - 2\\log\\sigma)$$\n",
    "Explanation of Terms:\\\n",
    "$\\sigma^2$ : The difference in the \"spread\" of the distributions.\\\n",
    "$\\mu^2$ : The squared difference between the means.\\\n",
    "$-1$ : A normalization adjustment.\\\n",
    "$-2\\log\\sigma$ : The log difference of the standard deviation."
   ]
  },
  {
   "cell_type": "markdown",
   "metadata": {},
   "source": [
    "### Question 2:"
   ]
  },
  {
   "cell_type": "markdown",
   "metadata": {},
   "source": [
    "<b> Show that the backpropagation algorithm is correctly deriving the error on every neuron in the network </b> <b> (5 points) </b>"
   ]
  },
  {
   "cell_type": "markdown",
   "metadata": {},
   "source": [
    "First, we need to understand about Backpropagation algorithm, the Backpropagation algorithm can be understood is the method used to train neural networks. Its main job is to compute the error (or how \"off\" the prediction is) for every neuron in the network and update the weights to make the network's predictions better."
   ]
  },
  {
   "cell_type": "markdown",
   "metadata": {},
   "source": [
    "The algorithm is designed to ensure that every neuron is updated based on its actual role in the final output. The backpropagation algorithm is built on the chain rule of calculus, which guarantees that the error is accurately distributed across all neurons. Each neuron is updated based on Its contribution to the error and The strength of the connection (weight) to the next layer. This ensures that every neuron gets the \"correct error\" for the overall error"
   ]
  },
  {
   "cell_type": "markdown",
   "metadata": {},
   "source": [
    "For example: If the output is wrong, the Backpropagation algorithm will start checking form the output, work backward, figuring out which neurons are causing the problem. Fix each neurons based on how much it contributes to the output"
   ]
  },
  {
   "cell_type": "markdown",
   "metadata": {},
   "source": [
    "### Question 3:"
   ]
  },
  {
   "cell_type": "markdown",
   "metadata": {},
   "source": [
    "<b> During the lecture we discuss dual numbers. Namely, numbers of the form: $z = a + \\epsilon b$, where $a,b \\in \\mathbb{R}$ and  $\\epsilon^2 = 0$. For every polynomial: $f(x) = a_0 + a_1x + a_2x^2 + \\dots + a_nx^n$ a value for dual number $z$ is equal to: $f(z) = f(a) + bf'(a)\\epsilon$. Show that it is indeed true </b> <b>(3 points)</b>. "
   ]
  },
  {
   "cell_type": "markdown",
   "metadata": {},
   "source": [
    "So the dual numbers are numbers of the formm: $z = a + \\epsilon b$ where $a,b \\in \\mathbb{R}$ and  $\\epsilon^2 = 0$. \n",
    "We plug $z = a + \\epsilon b$ to $f(x)$ and we will receive: $$f(x) = a_0 + a_1(a + b\\epsilon) + a_2(a + b\\epsilon)^2 + \\dots + a_n(a + b\\epsilon)^n$$"
   ]
  },
  {
   "cell_type": "markdown",
   "metadata": {},
   "source": [
    "Because $\\epsilon^2 = 0$ so when we expand all the power we will receive: \\\n",
    "$(a + b\\epsilon) = a_1(a + b\\epsilon)$ \\\n",
    "$(a + b\\epsilon)^2 = a^2 + 2ab\\epsilon + (b\\epsilon)^2 = a^2 + 2ab\\epsilon$\\\n",
    "$(a + b\\epsilon)^k = a^k + k a^{k-1} b\\epsilon $"
   ]
  },
  {
   "cell_type": "markdown",
   "metadata": {},
   "source": [
    "So we can conclude For every polynomial: $f(x) = a_0 + a_1x + a_2x^2 + \\dots + a_nx^n$ a value for dual number $z$ is equal to: $f(z) = f(a) + bf'(a)\\epsilon$"
   ]
  },
  {
   "cell_type": "markdown",
   "metadata": {},
   "source": [
    "### Question 4:"
   ]
  },
  {
   "cell_type": "markdown",
   "metadata": {},
   "source": [
    "<b> Tune the hyperparameters of the multi-layer perceptron presented during the lecture. Try to find a network with an accuracy exceeding 95% </b> <b>(7 points)</b>."
   ]
  },
  {
   "cell_type": "code",
   "execution_count": 24,
   "metadata": {},
   "outputs": [],
   "source": [
    "using Flux, Statistics\n",
    "using Base.Iterators: repeated\n",
    "using MLDatasets: MNIST, convert2image\n",
    "using Images"
   ]
  },
  {
   "cell_type": "code",
   "execution_count": 25,
   "metadata": {},
   "outputs": [
    {
     "data": {
      "text/plain": [
       "dataset MNIST:\n",
       "  metadata  =>    Dict{String, Any} with 3 entries\n",
       "  split     =>    :train\n",
       "  features  =>    28×28×60000 Array{Float32, 3}\n",
       "  targets   =>    60000-element Vector{Int64}"
      ]
     },
     "metadata": {},
     "output_type": "display_data"
    }
   ],
   "source": [
    "train_set = MNIST(:train)"
   ]
  },
  {
   "cell_type": "code",
   "execution_count": 26,
   "metadata": {},
   "outputs": [
    {
     "data": {
      "image/png": "[encoded data removed]",
      "text/html": [
       "<img src=\"data:image/png;base64,iVBORw0KGgoAAAANSUhEUgAAAHAAAABwCAAAAADji6uXAAAAAXNSR0IArs4c6QAAAARnQU1BAACxjwv8YQUAAAAgY0hSTQAAeiYAAICEAAD6AAAAgOgAAHUwAADqYAAAOpgAABdwnLpRPAAAAiVJREFUaAW9wT2IFgQABuAHemnI4aJFISgJwkDIIiqIsMLcajiKIEEIshosmgSHhhoUIW/IcIgCISHa+psKsp8hEKSSSAlyECon61Q+jMDT4RuO7w6/n5Pe54myKIuyKIuyKIuyKIuyKIuyKIuyKIuyKIuyKIuyKIsZ3YQ5y17FLdiE3TiI5/EvDuAto6IsyqIsJrgDN+MRPIpb8YzV/sAhzOMSTuI7q0VZlEVZjHE/vsac8ZbwBgb4CH/hH/xmtSiLsiiLMc7iPOasdhyLeAL/4ajpRFmURVmM8Tf24Cn8hEOGfsZ2DLAZr5telEVZlMUEn+IYLmELXsQCBoZ+xcumF2VRFmUxhYuGLhjahY+xZHZRFmVRFjN4Ew/gMTyJr8wuyqIsymIGA7yEH/E+vsEJHMZV04myKIuymNEZvIAj2ImdWIcPcc5kURZlURZr8Al+xwK2YT/uxD78abwoi7IoizX6Bc/haRzBK7gb240XZVEWZXEDFnEUHyDYisfxreuLsiiLslije/EsHkQMncL3xouyKIuymNEmvIZ5bLDsCs5hyXhRFmVRFlPagB3YjY1GncA+fG6yKIuyKIsJ1mMz3sU9Rh3H2/gMS6YTZVEWZXEdt+E93Ie7jPoBC/gSl80myqIsymKFh7EHD+F2oy7jHezHwNpEWZRFWawwj3nLTuMLXMFBLLoxURZlURYr7MVe/58oi7Ioi7Ioi7Ioi7Ioi7IouwZsVVgTmd3ynQAAAABJRU5ErkJg\">"
      ],
      "text/plain": [
       "28×28 Matrix{Gray{Float32}}:\n",
       " 0.0  0.0  0.0  0.0  0.0       0.0       …  0.0       0.0  0.0  0.0  0.0\n",
       " 0.0  0.0  0.0  0.0  0.0       0.0          0.0       0.0  0.0  0.0  0.0\n",
       " 0.0  0.0  0.0  0.0  0.0       0.0          0.0       0.0  0.0  0.0  0.0\n",
       " 0.0  0.0  0.0  0.0  0.0       0.0          0.0       0.0  0.0  0.0  0.0\n",
       " 0.0  0.0  0.0  0.0  0.0       0.0          0.0       0.0  0.0  0.0  0.0\n",
       " 0.0  0.0  0.0  0.0  0.0       0.0       …  0.498039  0.0  0.0  0.0  0.0\n",
       " 0.0  0.0  0.0  0.0  0.0       0.0          0.25098   0.0  0.0  0.0  0.0\n",
       " 0.0  0.0  0.0  0.0  0.0       0.0          0.0       0.0  0.0  0.0  0.0\n",
       " 0.0  0.0  0.0  0.0  0.0       0.0          0.0       0.0  0.0  0.0  0.0\n",
       " 0.0  0.0  0.0  0.0  0.0       0.0          0.0       0.0  0.0  0.0  0.0\n",
       " ⋮                             ⋮         ⋱                 ⋮         \n",
       " 0.0  0.0  0.0  0.0  0.0       0.0          0.0       0.0  0.0  0.0  0.0\n",
       " 0.0  0.0  0.0  0.0  0.0       0.0       …  0.0       0.0  0.0  0.0  0.0\n",
       " 0.0  0.0  0.0  0.0  0.0       0.0          0.0       0.0  0.0  0.0  0.0\n",
       " 0.0  0.0  0.0  0.0  0.0       0.0          0.0       0.0  0.0  0.0  0.0\n",
       " 0.0  0.0  0.0  0.0  0.215686  0.67451      0.0       0.0  0.0  0.0  0.0\n",
       " 0.0  0.0  0.0  0.0  0.533333  0.992157     0.0       0.0  0.0  0.0  0.0\n",
       " 0.0  0.0  0.0  0.0  0.0       0.0       …  0.0       0.0  0.0  0.0  0.0\n",
       " 0.0  0.0  0.0  0.0  0.0       0.0          0.0       0.0  0.0  0.0  0.0\n",
       " 0.0  0.0  0.0  0.0  0.0       0.0          0.0       0.0  0.0  0.0  0.0"
      ]
     },
     "metadata": {},
     "output_type": "display_data"
    }
   ],
   "source": [
    "convert2image(MNIST,train_set.features)[:,:,1]"
   ]
  },
  {
   "cell_type": "code",
   "execution_count": 27,
   "metadata": {},
   "outputs": [
    {
     "data": {
      "text/plain": [
       "784×60000 Matrix{Float32}:\n",
       " 0.0  0.0  0.0  0.0  0.0  0.0  0.0  0.0  …  0.0  0.0  0.0  0.0  0.0  0.0  0.0\n",
       " 0.0  0.0  0.0  0.0  0.0  0.0  0.0  0.0     0.0  0.0  0.0  0.0  0.0  0.0  0.0\n",
       " 0.0  0.0  0.0  0.0  0.0  0.0  0.0  0.0     0.0  0.0  0.0  0.0  0.0  0.0  0.0\n",
       " 0.0  0.0  0.0  0.0  0.0  0.0  0.0  0.0     0.0  0.0  0.0  0.0  0.0  0.0  0.0\n",
       " 0.0  0.0  0.0  0.0  0.0  0.0  0.0  0.0     0.0  0.0  0.0  0.0  0.0  0.0  0.0\n",
       " 0.0  0.0  0.0  0.0  0.0  0.0  0.0  0.0  …  0.0  0.0  0.0  0.0  0.0  0.0  0.0\n",
       " 0.0  0.0  0.0  0.0  0.0  0.0  0.0  0.0     0.0  0.0  0.0  0.0  0.0  0.0  0.0\n",
       " 0.0  0.0  0.0  0.0  0.0  0.0  0.0  0.0     0.0  0.0  0.0  0.0  0.0  0.0  0.0\n",
       " 0.0  0.0  0.0  0.0  0.0  0.0  0.0  0.0     0.0  0.0  0.0  0.0  0.0  0.0  0.0\n",
       " 0.0  0.0  0.0  0.0  0.0  0.0  0.0  0.0     0.0  0.0  0.0  0.0  0.0  0.0  0.0\n",
       " ⋮                        ⋮              ⋱            ⋮                   \n",
       " 0.0  0.0  0.0  0.0  0.0  0.0  0.0  0.0  …  0.0  0.0  0.0  0.0  0.0  0.0  0.0\n",
       " 0.0  0.0  0.0  0.0  0.0  0.0  0.0  0.0     0.0  0.0  0.0  0.0  0.0  0.0  0.0\n",
       " 0.0  0.0  0.0  0.0  0.0  0.0  0.0  0.0     0.0  0.0  0.0  0.0  0.0  0.0  0.0\n",
       " 0.0  0.0  0.0  0.0  0.0  0.0  0.0  0.0     0.0  0.0  0.0  0.0  0.0  0.0  0.0\n",
       " 0.0  0.0  0.0  0.0  0.0  0.0  0.0  0.0     0.0  0.0  0.0  0.0  0.0  0.0  0.0\n",
       " 0.0  0.0  0.0  0.0  0.0  0.0  0.0  0.0  …  0.0  0.0  0.0  0.0  0.0  0.0  0.0\n",
       " 0.0  0.0  0.0  0.0  0.0  0.0  0.0  0.0     0.0  0.0  0.0  0.0  0.0  0.0  0.0\n",
       " 0.0  0.0  0.0  0.0  0.0  0.0  0.0  0.0     0.0  0.0  0.0  0.0  0.0  0.0  0.0\n",
       " 0.0  0.0  0.0  0.0  0.0  0.0  0.0  0.0     0.0  0.0  0.0  0.0  0.0  0.0  0.0"
      ]
     },
     "metadata": {},
     "output_type": "display_data"
    }
   ],
   "source": [
    "X = reshape(float.(train_set.features),size(train_set.features,1) * size(train_set.features,2),\n",
    "    size(train_set.features,3))"
   ]
  },
  {
   "cell_type": "code",
   "execution_count": 28,
   "metadata": {},
   "outputs": [
    {
     "data": {
      "text/plain": [
       "10×60000 OneHotMatrix(::Vector{UInt32}) with eltype Bool:\n",
       " ⋅  1  ⋅  ⋅  ⋅  ⋅  ⋅  ⋅  ⋅  ⋅  ⋅  ⋅  ⋅  …  ⋅  ⋅  ⋅  ⋅  ⋅  ⋅  ⋅  ⋅  ⋅  ⋅  ⋅  ⋅\n",
       " ⋅  ⋅  ⋅  1  ⋅  ⋅  1  ⋅  1  ⋅  ⋅  ⋅  ⋅     ⋅  ⋅  ⋅  ⋅  ⋅  ⋅  1  ⋅  ⋅  ⋅  ⋅  ⋅\n",
       " ⋅  ⋅  ⋅  ⋅  ⋅  1  ⋅  ⋅  ⋅  ⋅  ⋅  ⋅  ⋅     ⋅  ⋅  ⋅  1  ⋅  ⋅  ⋅  ⋅  ⋅  ⋅  ⋅  ⋅\n",
       " ⋅  ⋅  ⋅  ⋅  ⋅  ⋅  ⋅  1  ⋅  ⋅  1  ⋅  1     ⋅  ⋅  ⋅  ⋅  ⋅  ⋅  ⋅  ⋅  1  ⋅  ⋅  ⋅\n",
       " ⋅  ⋅  1  ⋅  ⋅  ⋅  ⋅  ⋅  ⋅  1  ⋅  ⋅  ⋅     ⋅  ⋅  ⋅  ⋅  ⋅  ⋅  ⋅  ⋅  ⋅  ⋅  ⋅  ⋅\n",
       " 1  ⋅  ⋅  ⋅  ⋅  ⋅  ⋅  ⋅  ⋅  ⋅  ⋅  1  ⋅  …  ⋅  ⋅  ⋅  ⋅  ⋅  1  ⋅  ⋅  ⋅  1  ⋅  ⋅\n",
       " ⋅  ⋅  ⋅  ⋅  ⋅  ⋅  ⋅  ⋅  ⋅  ⋅  ⋅  ⋅  ⋅     ⋅  ⋅  ⋅  ⋅  ⋅  ⋅  ⋅  ⋅  ⋅  ⋅  1  ⋅\n",
       " ⋅  ⋅  ⋅  ⋅  ⋅  ⋅  ⋅  ⋅  ⋅  ⋅  ⋅  ⋅  ⋅     1  ⋅  ⋅  ⋅  ⋅  ⋅  ⋅  ⋅  ⋅  ⋅  ⋅  ⋅\n",
       " ⋅  ⋅  ⋅  ⋅  ⋅  ⋅  ⋅  ⋅  ⋅  ⋅  ⋅  ⋅  ⋅     ⋅  1  ⋅  ⋅  ⋅  ⋅  ⋅  1  ⋅  ⋅  ⋅  1\n",
       " ⋅  ⋅  ⋅  ⋅  1  ⋅  ⋅  ⋅  ⋅  ⋅  ⋅  ⋅  ⋅     ⋅  ⋅  1  ⋅  1  ⋅  ⋅  ⋅  ⋅  ⋅  ⋅  ⋅"
      ]
     },
     "metadata": {},
     "output_type": "display_data"
    }
   ],
   "source": [
    "Y = Flux.onehotbatch(train_set.targets, 0:9) "
   ]
  },
  {
   "cell_type": "code",
   "execution_count": 29,
   "metadata": {},
   "outputs": [],
   "source": [
    "test_set = MNIST(:test)\n",
    "\n",
    "#reshape data\n",
    "tX = reshape(float.(test_set.features),size(train_set.features,1) * size(train_set.features,2) ,\n",
    "    size(test_set.features,3))\n",
    "\n",
    "# One-hot-encode the labels\n",
    "tY = Flux.onehotbatch(test_set.targets, 0:9);"
   ]
  },
  {
   "cell_type": "code",
   "execution_count": 30,
   "metadata": {},
   "outputs": [],
   "source": [
    "batch_size = 256\n",
    "\n",
    "loader = Flux.DataLoader((X, Y), batchsize=batch_size, shuffle=true);"
   ]
  },
  {
   "cell_type": "code",
   "execution_count": 31,
   "metadata": {},
   "outputs": [
    {
     "data": {
      "text/plain": [
       "Chain(\n",
       "  Dense(784 => 128, relu),              \u001b[90m# 100_480 parameters\u001b[39m\n",
       "  Dropout(0.2),\n",
       "  Dense(128 => 64, relu),               \u001b[90m# 8_256 parameters\u001b[39m\n",
       "  Dropout(0.2),\n",
       "  Dense(64 => 10),                      \u001b[90m# 650 parameters\u001b[39m\n",
       "  NNlib.softmax,\n",
       ") \u001b[90m                  # Total: 6 arrays, \u001b[39m109_386 parameters, 427.641 KiB."
      ]
     },
     "metadata": {},
     "output_type": "display_data"
    }
   ],
   "source": [
    "m = Chain(\n",
    "  Dense(28^2 => 128, relu),\n",
    "  Dropout(0.2),\n",
    "  Dense(128 => 64, relu),\n",
    "  Dropout(0.2),\n",
    "  Dense(64 => 10),\n",
    "  softmax) "
   ]
  },
  {
   "cell_type": "code",
   "execution_count": 32,
   "metadata": {},
   "outputs": [
    {
     "data": {
      "text/plain": [
       "0.09918333333333333"
      ]
     },
     "metadata": {},
     "output_type": "display_data"
    }
   ],
   "source": [
    "loss(m, x, y) = Flux.crossentropy(m(x), y)\n",
    "\n",
    "accuracy(m, x, y) = mean(Flux.onecold(m(x)) .== Flux.onecold(y))\n",
    "\n",
    "evalcb = () -> @show(loss(X, Y))\n",
    "            \n",
    "opt_state = Flux.setup(Adam(), m)\n",
    "\n",
    "accuracy(m, X, Y)"
   ]
  },
  {
   "cell_type": "code",
   "execution_count": 33,
   "metadata": {},
   "outputs": [
    {
     "name": "stderr",
     "output_type": "stream",
     "text": [
      "┌ Info: Epoch 1 accuracy = 0.9362\n",
      "└ @ Main /home/cuongvosgh/Deep_learning/jl_notebook_cell_df34fa98e69747e1a8f8a730347b8e2f_X40sdnNjb2RlLXJlbW90ZQ==.jl:3\n",
      "┌ Info: Epoch 2 accuracy = 0.9538\n",
      "└ @ Main /home/cuongvosgh/Deep_learning/jl_notebook_cell_df34fa98e69747e1a8f8a730347b8e2f_X40sdnNjb2RlLXJlbW90ZQ==.jl:3\n",
      "┌ Info: Epoch 3 accuracy = 0.9638\n",
      "└ @ Main /home/cuongvosgh/Deep_learning/jl_notebook_cell_df34fa98e69747e1a8f8a730347b8e2f_X40sdnNjb2RlLXJlbW90ZQ==.jl:3\n",
      "┌ Info: Epoch 4 accuracy = 0.9684\n",
      "└ @ Main /home/cuongvosgh/Deep_learning/jl_notebook_cell_df34fa98e69747e1a8f8a730347b8e2f_X40sdnNjb2RlLXJlbW90ZQ==.jl:3\n",
      "┌ Info: Epoch 5 accuracy = 0.9713\n",
      "└ @ Main /home/cuongvosgh/Deep_learning/jl_notebook_cell_df34fa98e69747e1a8f8a730347b8e2f_X40sdnNjb2RlLXJlbW90ZQ==.jl:3\n"
     ]
    }
   ],
   "source": [
    "for epoch in 1:5\n",
    "    Flux.train!(loss, m, loader, opt_state)\n",
    "    @info \"Epoch $epoch accuracy = $(accuracy(m, tX, tY))\"\n",
    "end"
   ]
  },
  {
   "cell_type": "code",
   "execution_count": 34,
   "metadata": {},
   "outputs": [],
   "source": [
    "using BSON"
   ]
  },
  {
   "cell_type": "code",
   "execution_count": 35,
   "metadata": {},
   "outputs": [],
   "source": [
    "s = Flux.state(m)\n",
    "BSON.@save \"MNIST_extrahomework.bson\" s"
   ]
  },
  {
   "cell_type": "markdown",
   "metadata": {},
   "source": [
    "Updated point:\n",
    "- Increase layer of model \n",
    "- Add dropout to avoid overfitting\n"
   ]
  },
  {
   "cell_type": "code",
   "execution_count": 36,
   "metadata": {},
   "outputs": [
    {
     "data": {
      "text/plain": [
       "0.9713"
      ]
     },
     "metadata": {},
     "output_type": "display_data"
    }
   ],
   "source": [
    "m = Chain(\n",
    "  Dense(28^2 => 128, relu),\n",
    "  Dropout(0.2),\n",
    "  Dense(128 => 64, relu),\n",
    "  Dropout(0.2),\n",
    "  Dense(64 => 10),\n",
    "  softmax) \n",
    "\n",
    "BSON.@load \"MNIST_extrahomework.bson\" s\n",
    "\n",
    "Flux.loadmodel!(m, s)\n",
    "\n",
    "accuracy(m, tX, tY)"
   ]
  },
  {
   "cell_type": "markdown",
   "metadata": {},
   "source": [
    "<b> Please find file \"MNIST_extrahomework.bson\" for model detail. </b>"
   ]
  },
  {
   "cell_type": "markdown",
   "metadata": {},
   "source": [
    "### Question 5:"
   ]
  },
  {
   "cell_type": "markdown",
   "metadata": {},
   "source": [
    "<b> Change the loss function of the generator network presented in the class. Use the maximum likelihood game instead. How does the change affect the results? </b> <b>(8 points)</b>"
   ]
  },
  {
   "attachments": {
    "image.png": {
     "image/png": "[encoded data removed]"
    }
   },
   "cell_type": "markdown",
   "metadata": {},
   "source": [
    "![image.png](attachment:image.png)"
   ]
  },
  {
   "cell_type": "code",
   "execution_count": 1,
   "metadata": {},
   "outputs": [],
   "source": [
    "using Flux, MLDatasets\n",
    "using Flux: mse, throttle, params, onehotbatch\n",
    "using Base.Iterators: partition\n",
    "using Printf, BSON, JLD2, LinearAlgebra\n",
    "using Zygote\n",
    "using Images\n",
    "using CUDA\n",
    "using Statistics"
   ]
  },
  {
   "cell_type": "code",
   "execution_count": 2,
   "metadata": {},
   "outputs": [
    {
     "data": {
      "text/plain": [
       "true"
      ]
     },
     "metadata": {},
     "output_type": "display_data"
    }
   ],
   "source": [
    "use_cuda = true"
   ]
  },
  {
   "cell_type": "code",
   "execution_count": 3,
   "metadata": {},
   "outputs": [
    {
     "name": "stderr",
     "output_type": "stream",
     "text": [
      "┌ Info: Training on GPU\n",
      "└ @ Main /home/cuongvosgh/Deep_learning/jl_notebook_cell_df34fa98e69747e1a8f8a730347b8e2f_X51sdnNjb2RlLXJlbW90ZQ==.jl:3\n"
     ]
    }
   ],
   "source": [
    "if use_cuda && CUDA.functional()\n",
    "    device = gpu\n",
    "    @info \"Training on GPU\"\n",
    "else\n",
    "    device = cpu\n",
    "    @info \"Training on CPU\"\n",
    "end"
   ]
  },
  {
   "cell_type": "code",
   "execution_count": 4,
   "metadata": {},
   "outputs": [
    {
     "data": {
      "text/plain": [
       "100"
      ]
     },
     "metadata": {},
     "output_type": "display_data"
    }
   ],
   "source": [
    "batch_size = 128\n",
    "latent_dim = 100"
   ]
  },
  {
   "cell_type": "code",
   "execution_count": 5,
   "metadata": {},
   "outputs": [],
   "source": [
    "train_set = MNIST(:train)\n",
    "Y = onehotbatch(train_set.targets, 0:9)   |> device;\n",
    "imgs = reshape(@.(2f0 * train_set.features - 1f0), 28, 28, 1, :);\n",
    "dataset = [(imgs[:,:,:,i], Y[:,i]) for i in partition(1:size(imgs,4), batch_size)] |> device;"
   ]
  },
  {
   "cell_type": "code",
   "execution_count": 6,
   "metadata": {},
   "outputs": [
    {
     "data": {
      "image/png": "[encoded data removed]",
      "text/html": [
       "<img src=\"data:image/png;base64,iVBORw0KGgoAAAANSUhEUgAAAHAAAABwCAAAAADji6uXAAAAAXNSR0IArs4c6QAAAARnQU1BAACxjwv8YQUAAAAgY0hSTQAAeiYAAICEAAD6AAAAgOgAAHUwAADqYAAAOpgAABdwnLpRPAAAAfxJREFUaAW9wb+L1gUAB+BH+Ig4iAeCDe7+IGl1EQIDxVsadFKEQl0l8eogq6XJCOWiwUHxDUIQ5QI5EEH8F5xuSCFHFTeHBkGu4R0a9H2/36P4PE+URVmURVmURVmURVmURVmURVmURVmURVmURVmURVls0gFcxilswYapi7iFN+aLsiiLstiEo7iL7ZhgFZ/gY/yMRRwzX5RFWZTFSLtwA+v4Do9NrZm6j18Ni7Ioi7IYYQErWMBxrHvfHRzCNVw0W5RFWZTFCMs4hctYN9sV3DNflEVZlMWA/VjGEq6a7xUOYx/+9GFRFmVRFgPe4TWuGmfDfFEWZVEWA57hI/+fKIuyKIsB27CCE/ge1812Gn/jrdmiLMqiLAYcxaf4Dadx3Yct4Aju4LnZoizKoiwGHMYVTLDXbNuxiPPmi7Ioi7IYsIGDpp6abSdeYs18URZlURYj7DTsM/xhWJRFWZTFCM/MtwOfY9mwKIuyKIsRvsJPZjuCPXhiWJRFWZTFgAm+wVnc9L6tuISJcaIsyqIsBvyFCX7EYzz3r61YwW78bpwoi7IoiwFvcRtf4Becx0tT3+JLnMEL40RZlEVZjPAIj7CIh3hg6gLO4Z7xoizKoixGOokfcAJf4ymuYdXmRFmURVmM9AZLWPLfRFmURVmURVmURVmURVmURdk/4hNIxBKFGIAAAAAASUVORK5C\">"
      ],
      "text/plain": [
       "28×28 Array{Gray{Float32},2} with eltype Gray{Float32}:\n",
       " Gray{Float32}(0.0)  Gray{Float32}(0.0)  …  Gray{Float32}(0.0)\n",
       " Gray{Float32}(0.0)  Gray{Float32}(0.0)     Gray{Float32}(0.0)\n",
       " Gray{Float32}(0.0)  Gray{Float32}(0.0)     Gray{Float32}(0.0)\n",
       " Gray{Float32}(0.0)  Gray{Float32}(0.0)     Gray{Float32}(0.0)\n",
       " Gray{Float32}(0.0)  Gray{Float32}(0.0)     Gray{Float32}(0.0)\n",
       " Gray{Float32}(0.0)  Gray{Float32}(0.0)  …  Gray{Float32}(0.0)\n",
       " Gray{Float32}(0.0)  Gray{Float32}(0.0)     Gray{Float32}(0.0)\n",
       " Gray{Float32}(0.0)  Gray{Float32}(0.0)     Gray{Float32}(0.0)\n",
       " Gray{Float32}(0.0)  Gray{Float32}(0.0)     Gray{Float32}(0.0)\n",
       " Gray{Float32}(0.0)  Gray{Float32}(0.0)     Gray{Float32}(0.0)\n",
       " ⋮                                       ⋱  \n",
       " Gray{Float32}(0.0)  Gray{Float32}(0.0)     Gray{Float32}(0.0)\n",
       " Gray{Float32}(0.0)  Gray{Float32}(0.0)  …  Gray{Float32}(0.0)\n",
       " Gray{Float32}(0.0)  Gray{Float32}(0.0)     Gray{Float32}(0.0)\n",
       " Gray{Float32}(0.0)  Gray{Float32}(0.0)     Gray{Float32}(0.0)\n",
       " Gray{Float32}(0.0)  Gray{Float32}(0.0)     Gray{Float32}(0.0)\n",
       " Gray{Float32}(0.0)  Gray{Float32}(0.0)     Gray{Float32}(0.0)\n",
       " Gray{Float32}(0.0)  Gray{Float32}(0.0)  …  Gray{Float32}(0.0)\n",
       " Gray{Float32}(0.0)  Gray{Float32}(0.0)     Gray{Float32}(0.0)\n",
       " Gray{Float32}(0.0)  Gray{Float32}(0.0)     Gray{Float32}(0.0)"
      ]
     },
     "metadata": {},
     "output_type": "display_data"
    }
   ],
   "source": [
    "Gray.(dropdims((cpu(dataset[3][1][:,:,:,5]).+1.f0) ./ 2.f0; dims = 3))"
   ]
  },
  {
   "cell_type": "code",
   "execution_count": 7,
   "metadata": {},
   "outputs": [
    {
     "data": {
      "text/plain": [
       "Chain(\n",
       "  Conv((3, 3), 2 => 128, pad=1, stride=2),  \u001b[90m# 2_432 parameters\u001b[39m\n",
       "  var\"#15#18\"(),\n",
       "  Dropout(0.4),\n",
       "  Conv((3, 3), 128 => 128, leakyrelu, pad=1, stride=2),  \u001b[90m# 147_584 parameters\u001b[39m\n",
       "  var\"#16#19\"(),\n",
       "  var\"#17#20\"(),\n",
       "  Dropout(0.4),\n",
       "  Dense(6272 => 1),                     \u001b[90m# 6_273 parameters\u001b[39m\n",
       ") \u001b[90m                  # Total: 6 arrays, \u001b[39m156_289 parameters, 1.164 KiB."
      ]
     },
     "metadata": {},
     "output_type": "display_data"
    }
   ],
   "source": [
    "d_labels = Chain(Dense(10,28^2), x-> reshape(x, 28, 28, 1, size(x, 2)))  |> device\n",
    "d_common = Chain(Conv((3,3), 2=>128, pad=(1,1), stride=(2,2)),\n",
    "                  x-> leakyrelu.(x, 0.2f0),\n",
    "                  Dropout(0.4),\n",
    "                  Conv((3,3), 128=>128, pad=(1,1), stride=(2,2), leakyrelu),\n",
    "                  x-> leakyrelu.(x, 0.2f0),\n",
    "                  x-> reshape(x, :, size(x, 4)),\n",
    "                  Dropout(0.4),\n",
    "                  Dense(6272, 1)) |> device"
   ]
  },
  {
   "cell_type": "code",
   "execution_count": 8,
   "metadata": {},
   "outputs": [
    {
     "data": {
      "text/plain": [
       "discriminator (generic function with 1 method)"
      ]
     },
     "metadata": {},
     "output_type": "display_data"
    }
   ],
   "source": [
    "function discriminator(label, data)\n",
    "    x = cat(d_labels(label), data, dims=3)\n",
    "    return d_common(x)\n",
    "end"
   ]
  },
  {
   "cell_type": "code",
   "execution_count": 9,
   "metadata": {},
   "outputs": [
    {
     "data": {
      "text/plain": [
       "Chain(\n",
       "  ConvTranspose((4, 4), 129 => 128, pad=1, stride=2),  \u001b[90m# 264_320 parameters\u001b[39m\n",
       "  BatchNorm(128, leakyrelu),            \u001b[90m# 256 parameters\u001b[39m\u001b[90m, plus 256\u001b[39m\n",
       "  Dropout(0.25),\n",
       "  ConvTranspose((4, 4), 128 => 64, pad=1, stride=2),  \u001b[90m# 131_136 parameters\u001b[39m\n",
       "  BatchNorm(64, leakyrelu),             \u001b[90m# 128 parameters\u001b[39m\u001b[90m, plus 128\u001b[39m\n",
       "  Conv((7, 7), 64 => 1, tanh, pad=3),   \u001b[90m# 3_137 parameters\u001b[39m\n",
       ") \u001b[90m        # Total: 10 trainable arrays, \u001b[39m398_977 parameters,\n",
       "\u001b[90m          # plus 4 non-trainable, 384 parameters, summarysize \u001b[39m2.531 KiB."
      ]
     },
     "metadata": {},
     "output_type": "display_data"
    }
   ],
   "source": [
    "g_labels = Chain(Dense(10, 49), x-> reshape(x, 7 , 7 , 1 , size(x, 2))) |> device\n",
    "g_latent = Chain(Dense(latent_dim, 6272), x-> leakyrelu.(x, 0.2f0), \n",
    "    x-> reshape(x, 7, 7, 128, size(x, 2))) |> device\n",
    "g_common = Chain(ConvTranspose((4, 4), 129=>128; stride=2, pad=1),\n",
    "            BatchNorm(128, leakyrelu),\n",
    "            Dropout(0.25),\n",
    "            ConvTranspose((4, 4), 128=>64; stride=2, pad=1),\n",
    "            BatchNorm(64, leakyrelu),\n",
    "            Conv((7, 7), 64=>1, tanh; stride=1, pad=3)) |> device"
   ]
  },
  {
   "cell_type": "code",
   "execution_count": 10,
   "metadata": {},
   "outputs": [
    {
     "data": {
      "text/plain": [
       "generator (generic function with 1 method)"
      ]
     },
     "metadata": {},
     "output_type": "display_data"
    }
   ],
   "source": [
    "function generator(labels, noise)\n",
    "    x = cat(g_labels(labels), g_latent(noise), dims=3)\n",
    "    return g_common(x)\n",
    "end"
   ]
  },
  {
   "cell_type": "markdown",
   "metadata": {},
   "source": [
    "<b> Orginal discriminator_loss and generator_loss function </b>"
   ]
  },
  {
   "cell_type": "code",
   "execution_count": 23,
   "metadata": {},
   "outputs": [
    {
     "data": {
      "text/plain": [
       "generator_loss (generic function with 1 method)"
      ]
     },
     "metadata": {},
     "output_type": "display_data"
    }
   ],
   "source": [
    "function discriminator_loss(real_output, fake_output)\n",
    "    real_loss = Flux.Losses.logitbinarycrossentropy(real_output, 1f0)\n",
    "    fake_loss = Flux.Losses.logitbinarycrossentropy(fake_output, 0f0)\n",
    "    return (real_loss + fake_loss)\n",
    "end\n",
    "\n",
    "generator_loss(fake_output) = Flux.Losses.logitbinarycrossentropy(fake_output, 1f0)"
   ]
  },
  {
   "cell_type": "markdown",
   "metadata": {},
   "source": [
    "<b> discriminator_loss and generator_loss function using MLE</b>"
   ]
  },
  {
   "cell_type": "code",
   "execution_count": 11,
   "metadata": {},
   "outputs": [
    {
     "data": {
      "text/plain": [
       "generator_loss (generic function with 1 method)"
      ]
     },
     "metadata": {},
     "output_type": "display_data"
    }
   ],
   "source": [
    "function discriminator_loss(real_output, fake_output)\n",
    "    real_loss = Flux.Losses.binarycrossentropy(real_output, 1f0, agg=mean, eps=1f-8)\n",
    "    fake_loss = Flux.Losses.binarycrossentropy(fake_output, 0f0, agg=mean, eps=1f-8)\n",
    "    return (real_loss + fake_loss)\n",
    "end\n",
    "\n",
    "generator_loss(fake_output) = Flux.Losses.binarycrossentropy(fake_output, 1f0, agg=mean, eps=1f-8)"
   ]
  },
  {
   "cell_type": "markdown",
   "metadata": {},
   "source": [
    "<b> Create discriminator_loss and generator_loss function using MLE</b> -- without library"
   ]
  },
  {
   "cell_type": "code",
   "execution_count": null,
   "metadata": {},
   "outputs": [],
   "source": [
    "function discriminator_loss(real_output, fake_output)\n",
    "    real_loss = -log.(real_output)\n",
    "    fake_loss = -log.(1f0 .- fake_output)\n",
    "    return mean(real_loss) + mean(fake_loss)\n",
    "end\n",
    "\n",
    "generator_loss(fake_output) = mean(-log.(fake_output))"
   ]
  },
  {
   "cell_type": "code",
   "execution_count": 12,
   "metadata": {},
   "outputs": [
    {
     "data": {
      "text/plain": [
       "sample (generic function with 1 method)"
      ]
     },
     "metadata": {},
     "output_type": "display_data"
    }
   ],
   "source": [
    "function sample(noise, labels)\n",
    "    @eval NNlib.within_gradient(generator) = false\n",
    "    imgs = @.(generator(device(labels), device(noise)))\n",
    "    @eval NNlib.within_gradient(generator) = true\n",
    "    imgs = cpu(imgs)\n",
    "    Gray.((transpose(dropdims(reduce(vcat, reduce.(hcat, partition(imgs, 4))); dims=(3, 4)))\n",
    "            .+ 1f0)./2.f0)\n",
    "end"
   ]
  },
  {
   "cell_type": "code",
   "execution_count": 13,
   "metadata": {},
   "outputs": [
    {
     "data": {
      "text/plain": [
       "Adam(0.0002, (0.5, 0.99), 1.0e-8, IdDict{Any, Any}())"
      ]
     },
     "metadata": {},
     "output_type": "display_data"
    }
   ],
   "source": [
    "opt_dscr = Adam(0.0002, (0.5, 0.99))\n",
    "opt_gen = Adam(0.0002, (0.5, 0.99))"
   ]
  },
  {
   "cell_type": "code",
   "execution_count": 14,
   "metadata": {},
   "outputs": [],
   "source": [
    "function train_discriminator(fake_data, fake_labels, original_data, labels, opt_discr)\n",
    "    ps = params(d_labels, d_common)\n",
    "    loss, back = Zygote.pullback(ps) do\n",
    "        discriminator_loss(discriminator(labels, original_data), discriminator(fake_labels, fake_data))\n",
    "    end\n",
    "    grads = back(1f0)\n",
    "    Flux.Optimise.update!(opt_discr, ps, grads)\n",
    "    return loss\n",
    "end\n",
    "\n",
    "Zygote.@nograd train_discriminator"
   ]
  },
  {
   "cell_type": "code",
   "execution_count": 15,
   "metadata": {},
   "outputs": [
    {
     "name": "stderr",
     "output_type": "stream",
     "text": [
      "┌ Info: Beginning training loop...\n",
      "└ @ Main /home/cuongvosgh/Deep_learning/jl_notebook_cell_df34fa98e69747e1a8f8a730347b8e2f_Y102sdnNjb2RlLXJlbW90ZQ==.jl:3\n",
      "┌ Info: Epoch 1\n",
      "└ @ Main /home/cuongvosgh/Deep_learning/jl_notebook_cell_df34fa98e69747e1a8f8a730347b8e2f_Y102sdnNjb2RlLXJlbW90ZQ==.jl:6\n",
      "┌ Info: Epoch: 1, Discriminator loss = NaN, Generator loss = NaN\n",
      "└ @ Main /home/cuongvosgh/Deep_learning/jl_notebook_cell_df34fa98e69747e1a8f8a730347b8e2f_Y102sdnNjb2RlLXJlbW90ZQ==.jl:21\n",
      "┌ Info: Epoch 2\n",
      "└ @ Main /home/cuongvosgh/Deep_learning/jl_notebook_cell_df34fa98e69747e1a8f8a730347b8e2f_Y102sdnNjb2RlLXJlbW90ZQ==.jl:6\n",
      "┌ Info: Epoch: 2, Discriminator loss = NaN, Generator loss = NaN\n",
      "└ @ Main /home/cuongvosgh/Deep_learning/jl_notebook_cell_df34fa98e69747e1a8f8a730347b8e2f_Y102sdnNjb2RlLXJlbW90ZQ==.jl:21\n",
      "┌ Info: Epoch 3\n",
      "└ @ Main /home/cuongvosgh/Deep_learning/jl_notebook_cell_df34fa98e69747e1a8f8a730347b8e2f_Y102sdnNjb2RlLXJlbW90ZQ==.jl:6\n",
      "┌ Info: Epoch: 3, Discriminator loss = NaN, Generator loss = NaN\n",
      "└ @ Main /home/cuongvosgh/Deep_learning/jl_notebook_cell_df34fa98e69747e1a8f8a730347b8e2f_Y102sdnNjb2RlLXJlbW90ZQ==.jl:21\n",
      "┌ Info: Epoch 4\n",
      "└ @ Main /home/cuongvosgh/Deep_learning/jl_notebook_cell_df34fa98e69747e1a8f8a730347b8e2f_Y102sdnNjb2RlLXJlbW90ZQ==.jl:6\n",
      "┌ Info: Epoch: 4, Discriminator loss = NaN, Generator loss = NaN\n",
      "└ @ Main /home/cuongvosgh/Deep_learning/jl_notebook_cell_df34fa98e69747e1a8f8a730347b8e2f_Y102sdnNjb2RlLXJlbW90ZQ==.jl:21\n",
      "┌ Info: Epoch 5\n",
      "└ @ Main /home/cuongvosgh/Deep_learning/jl_notebook_cell_df34fa98e69747e1a8f8a730347b8e2f_Y102sdnNjb2RlLXJlbW90ZQ==.jl:6\n",
      "┌ Info: Epoch: 5, Discriminator loss = NaN, Generator loss = NaN\n",
      "└ @ Main /home/cuongvosgh/Deep_learning/jl_notebook_cell_df34fa98e69747e1a8f8a730347b8e2f_Y102sdnNjb2RlLXJlbW90ZQ==.jl:21\n",
      "┌ Info: Epoch 6\n",
      "└ @ Main /home/cuongvosgh/Deep_learning/jl_notebook_cell_df34fa98e69747e1a8f8a730347b8e2f_Y102sdnNjb2RlLXJlbW90ZQ==.jl:6\n",
      "┌ Info: Epoch: 6, Discriminator loss = NaN, Generator loss = NaN\n",
      "└ @ Main /home/cuongvosgh/Deep_learning/jl_notebook_cell_df34fa98e69747e1a8f8a730347b8e2f_Y102sdnNjb2RlLXJlbW90ZQ==.jl:21\n",
      "┌ Info: Epoch 7\n",
      "└ @ Main /home/cuongvosgh/Deep_learning/jl_notebook_cell_df34fa98e69747e1a8f8a730347b8e2f_Y102sdnNjb2RlLXJlbW90ZQ==.jl:6\n",
      "┌ Info: Epoch: 7, Discriminator loss = NaN, Generator loss = NaN\n",
      "└ @ Main /home/cuongvosgh/Deep_learning/jl_notebook_cell_df34fa98e69747e1a8f8a730347b8e2f_Y102sdnNjb2RlLXJlbW90ZQ==.jl:21\n",
      "┌ Info: Epoch 8\n",
      "└ @ Main /home/cuongvosgh/Deep_learning/jl_notebook_cell_df34fa98e69747e1a8f8a730347b8e2f_Y102sdnNjb2RlLXJlbW90ZQ==.jl:6\n",
      "┌ Info: Epoch: 8, Discriminator loss = NaN, Generator loss = NaN\n",
      "└ @ Main /home/cuongvosgh/Deep_learning/jl_notebook_cell_df34fa98e69747e1a8f8a730347b8e2f_Y102sdnNjb2RlLXJlbW90ZQ==.jl:21\n",
      "┌ Info: Epoch 9\n",
      "└ @ Main /home/cuongvosgh/Deep_learning/jl_notebook_cell_df34fa98e69747e1a8f8a730347b8e2f_Y102sdnNjb2RlLXJlbW90ZQ==.jl:6\n",
      "┌ Info: Epoch: 9, Discriminator loss = NaN, Generator loss = NaN\n",
      "└ @ Main /home/cuongvosgh/Deep_learning/jl_notebook_cell_df34fa98e69747e1a8f8a730347b8e2f_Y102sdnNjb2RlLXJlbW90ZQ==.jl:21\n",
      "┌ Info: Epoch 10\n",
      "└ @ Main /home/cuongvosgh/Deep_learning/jl_notebook_cell_df34fa98e69747e1a8f8a730347b8e2f_Y102sdnNjb2RlLXJlbW90ZQ==.jl:6\n",
      "┌ Info: Epoch: 10, Discriminator loss = NaN, Generator loss = NaN\n",
      "└ @ Main /home/cuongvosgh/Deep_learning/jl_notebook_cell_df34fa98e69747e1a8f8a730347b8e2f_Y102sdnNjb2RlLXJlbW90ZQ==.jl:21\n"
     ]
    },
    {
     "data": {
      "text/plain": [
       "4×4 Matrix{Int64}:\n",
       " 2  9  8  6\n",
       " 5  2  2  8\n",
       " 0  2  2  6\n",
       " 5  6  8  2"
      ]
     },
     "metadata": {},
     "output_type": "display_data"
    },
    {
     "data": {
      "image/png": "[encoded data removed]",
      "text/html": [
       "<img src=\"data:image/png;base64,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\">"
      ],
      "text/plain": [
       "112×112 Array{Gray{Float32},2} with eltype Gray{Float32}:\n",
       " Gray{Float32}(0.503542)  Gray{Float32}(0.502652)  …  Gray{Float32}(0.504797)\n",
       " Gray{Float32}(0.492369)  Gray{Float32}(0.500364)     Gray{Float32}(0.506771)\n",
       " Gray{Float32}(0.497336)  Gray{Float32}(0.480694)     Gray{Float32}(0.492244)\n",
       " Gray{Float32}(0.492474)  Gray{Float32}(0.495116)     Gray{Float32}(0.506308)\n",
       " Gray{Float32}(0.514897)  Gray{Float32}(0.486696)     Gray{Float32}(0.501555)\n",
       " Gray{Float32}(0.488572)  Gray{Float32}(0.500951)  …  Gray{Float32}(0.504064)\n",
       " Gray{Float32}(0.50272)   Gray{Float32}(0.491205)     Gray{Float32}(0.489774)\n",
       " Gray{Float32}(0.501872)  Gray{Float32}(0.500981)     Gray{Float32}(0.491339)\n",
       " Gray{Float32}(0.500286)  Gray{Float32}(0.487188)     Gray{Float32}(0.498401)\n",
       " Gray{Float32}(0.498145)  Gray{Float32}(0.491488)     Gray{Float32}(0.511724)\n",
       " ⋮                                                 ⋱  \n",
       " Gray{Float32}(0.501868)  Gray{Float32}(0.500341)     Gray{Float32}(0.506733)\n",
       " Gray{Float32}(0.507498)  Gray{Float32}(0.489148)     Gray{Float32}(0.504011)\n",
       " Gray{Float32}(0.495506)  Gray{Float32}(0.499995)  …  Gray{Float32}(0.499619)\n",
       " Gray{Float32}(0.499024)  Gray{Float32}(0.482375)     Gray{Float32}(0.494502)\n",
       " Gray{Float32}(0.49645)   Gray{Float32}(0.503687)     Gray{Float32}(0.500363)\n",
       " Gray{Float32}(0.508649)  Gray{Float32}(0.493173)     Gray{Float32}(0.490479)\n",
       " Gray{Float32}(0.488553)  Gray{Float32}(0.516838)     Gray{Float32}(0.496245)\n",
       " Gray{Float32}(0.50506)   Gray{Float32}(0.489067)  …  Gray{Float32}(0.494864)\n",
       " Gray{Float32}(0.496717)  Gray{Float32}(0.507133)     Gray{Float32}(0.494391)"
      ]
     },
     "metadata": {},
     "output_type": "display_data"
    },
    {
     "data": {
      "text/plain": [
       "4×4 Matrix{Int64}:\n",
       " 2  9  8  6\n",
       " 5  2  2  8\n",
       " 0  2  2  6\n",
       " 5  6  8  2"
      ]
     },
     "metadata": {},
     "output_type": "display_data"
    },
    {
     "data": {
      "image/png": "[encoded data removed]",
      "text/html": [
       "<img src=\"data:image/png;base64,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\">"
      ],
      "text/plain": [
       "112×112 Array{Gray{Float32},2} with eltype Gray{Float32}:\n",
       " Gray{Float32}(0.0207857)    …  Gray{Float32}(0.176444)\n",
       " Gray{Float32}(0.00761798)      Gray{Float32}(0.0277923)\n",
       " Gray{Float32}(0.00152045)      Gray{Float32}(0.00315025)\n",
       " Gray{Float32}(0.00182411)      Gray{Float32}(0.00245029)\n",
       " Gray{Float32}(0.00737894)      Gray{Float32}(0.00126395)\n",
       " Gray{Float32}(0.000116736)  …  Gray{Float32}(0.000321954)\n",
       " Gray{Float32}(0.000768274)     Gray{Float32}(0.00167388)\n",
       " Gray{Float32}(0.00512609)      Gray{Float32}(0.000160098)\n",
       " Gray{Float32}(0.00677371)      Gray{Float32}(0.00238189)\n",
       " Gray{Float32}(0.00744668)      Gray{Float32}(0.00288606)\n",
       " ⋮                           ⋱  \n",
       " Gray{Float32}(0.00281167)      Gray{Float32}(0.000794679)\n",
       " Gray{Float32}(0.00577047)      Gray{Float32}(0.0058797)\n",
       " Gray{Float32}(0.00218305)   …  Gray{Float32}(0.000393122)\n",
       " Gray{Float32}(0.000327945)     Gray{Float32}(0.00110179)\n",
       " Gray{Float32}(0.00181106)      Gray{Float32}(8.85427f-5)\n",
       " Gray{Float32}(0.0149921)       Gray{Float32}(0.00107846)\n",
       " Gray{Float32}(0.00155193)      Gray{Float32}(0.00196588)\n",
       " Gray{Float32}(0.0221892)    …  Gray{Float32}(0.00743037)\n",
       " Gray{Float32}(0.0143785)       Gray{Float32}(0.00782761)"
      ]
     },
     "metadata": {},
     "output_type": "display_data"
    },
    {
     "data": {
      "text/plain": [
       "4×4 Matrix{Int64}:\n",
       " 2  9  8  6\n",
       " 5  2  2  8\n",
       " 0  2  2  6\n",
       " 5  6  8  2"
      ]
     },
     "metadata": {},
     "output_type": "display_data"
    },
    {
     "data": {
      "image/png": "[encoded data removed]",
      "text/html": [
       "<img src=\"data:image/png;base64,iVBORw0KGgoAAAANSUhEUgAAAHAAAABwCAAAAADji6uXAAAAAXNSR0IArs4c6QAAAARnQU1BAACxjwv8YQUAAAAgY0hSTQAAeiYAAICEAAD6AAAAgOgAAHUwAADqYAAAOpgAABdwnLpRPAAAAVtJREFUaAW9wVGKG1EQBMFsbd7/xpoyGIwXe3s+HpqKcAg/G8JqwmYIKw2bcCbcuORMOHNJmXzehJ18XrghZVImq9fFA2R18QQpkzIpkzIpkzIpkzJ5wISVPCDspEzKpEzKpEwOTTjihBPDmZEJiyFsMpwYfF2swo0JJ7zCJtwIJzKGqkiZ3HhdfJzcuPg8KZMyKZMyKZMyKZMyKZMyKZMyKZMyKZMyKZMy2U34PNmFBzhhNWE14cTIajJhM5yJX++wCZvhuwnfDITfJvxrfIdV2GTCX+G78Ef4TwybcCOcGemKlEmZlEmZlEmZlEmZlEmZlEmZlEmZlEmZlEmZlEmZlEmZEzYTjgxh5YTFMOHAcGMMm/AKi+F1hZ/l65qwGMMubMKb1XvC5pIb4UzYSZmUSZmUSZmUSZmUSZmUSZmUSZmUSZmUSZmUSZmUSZmUSZkcmrAawmLkAWGVX7dvV5pK30xXAAAAAElFTkSuQmCC\">"
      ],
      "text/plain": [
       "112×112 Array{Gray{Float32},2} with eltype Gray{Float32}:\n",
       " Gray{Float32}(0.00341654)   …  Gray{Float32}(0.0157203)\n",
       " Gray{Float32}(0.00139529)      Gray{Float32}(0.00677666)\n",
       " Gray{Float32}(0.0002321)       Gray{Float32}(0.000510871)\n",
       " Gray{Float32}(0.000208467)     Gray{Float32}(0.000430584)\n",
       " Gray{Float32}(0.000738233)     Gray{Float32}(0.000155538)\n",
       " Gray{Float32}(2.3216f-5)    …  Gray{Float32}(0.000101954)\n",
       " Gray{Float32}(8.94368f-5)      Gray{Float32}(2.58386f-5)\n",
       " Gray{Float32}(0.000194728)     Gray{Float32}(7.03335f-6)\n",
       " Gray{Float32}(0.000170916)     Gray{Float32}(3.10242f-5)\n",
       " Gray{Float32}(0.000152707)     Gray{Float32}(0.000118732)\n",
       " ⋮                           ⋱  \n",
       " Gray{Float32}(0.00012669)      Gray{Float32}(3.66569f-5)\n",
       " Gray{Float32}(0.000306457)     Gray{Float32}(0.000508308)\n",
       " Gray{Float32}(0.000132442)  …  Gray{Float32}(7.1615f-5)\n",
       " Gray{Float32}(0.000230789)     Gray{Float32}(4.67896f-5)\n",
       " Gray{Float32}(0.000122428)     Gray{Float32}(1.91629f-5)\n",
       " Gray{Float32}(0.000391513)     Gray{Float32}(4.70877f-5)\n",
       " Gray{Float32}(0.000315368)     Gray{Float32}(3.94583f-5)\n",
       " Gray{Float32}(0.00159633)   …  Gray{Float32}(0.0021103)\n",
       " Gray{Float32}(0.000555962)     Gray{Float32}(0.000737846)"
      ]
     },
     "metadata": {},
     "output_type": "display_data"
    },
    {
     "data": {
      "text/plain": [
       "4×4 Matrix{Int64}:\n",
       " 2  9  8  6\n",
       " 5  2  2  8\n",
       " 0  2  2  6\n",
       " 5  6  8  2"
      ]
     },
     "metadata": {},
     "output_type": "display_data"
    },
    {
     "data": {
      "image/png": "[encoded data removed]",
      "text/html": [
       "<img src=\"data:image/png;base64,iVBORw0KGgoAAAANSUhEUgAAAHAAAABwCAAAAADji6uXAAAAAXNSR0IArs4c6QAAAARnQU1BAACxjwv8YQUAAAAgY0hSTQAAeiYAAICEAAD6AAAAgOgAAHUwAADqYAAAOpgAABdwnLpRPAAAALJJREFUaAW9wQENAAAMgzCe4N/y7oJWYhKTmMQkJjGJSUxiEpOYxCQmMYlJTGISk5jEJCYxiUlMYhKTmMQkJjGJSUxiEpOYxCQmMYlJTGISk5jEJCYxiUlMYhKTmMQkJjGJScwbKUdLYhKTmMQkJjGJSUxiEpOYxCQmMYlJTGISk5jEJCYxiUlMYhKTmMQkJjGJSUxiEpOYxCQmMYlJTGISk5jEJCYxiUlMYhKTmMQkJrEHv28DwO2NSUwAAAAASUVORK5C\">"
      ],
      "text/plain": [
       "112×112 Array{Gray{Float32},2} with eltype Gray{Float32}:\n",
       " Gray{Float32}(0.000698507)  …  Gray{Float32}(0.00105423)\n",
       " Gray{Float32}(0.000117153)     Gray{Float32}(0.00021708)\n",
       " Gray{Float32}(1.57058f-5)      Gray{Float32}(2.56598f-5)\n",
       " Gray{Float32}(1.40667f-5)      Gray{Float32}(3.84748f-5)\n",
       " Gray{Float32}(0.000103563)     Gray{Float32}(1.36197f-5)\n",
       " Gray{Float32}(1.19209f-6)   …  Gray{Float32}(5.81145f-6)\n",
       " Gray{Float32}(7.95722f-6)      Gray{Float32}(2.95043f-6)\n",
       " Gray{Float32}(9.0301f-6)       Gray{Float32}(3.8743f-7)\n",
       " Gray{Float32}(1.19805f-5)      Gray{Float32}(1.43647f-5)\n",
       " Gray{Float32}(7.48038f-6)      Gray{Float32}(8.13603f-6)\n",
       " ⋮                           ⋱  \n",
       " Gray{Float32}(1.50502f-5)      Gray{Float32}(1.94907f-5)\n",
       " Gray{Float32}(1.58548f-5)      Gray{Float32}(2.97129f-5)\n",
       " Gray{Float32}(1.3113f-5)    …  Gray{Float32}(2.89083f-6)\n",
       " Gray{Float32}(7.45058f-7)      Gray{Float32}(1.055f-5)\n",
       " Gray{Float32}(7.33137f-6)      Gray{Float32}(2.5332f-6)\n",
       " Gray{Float32}(0.000187576)     Gray{Float32}(1.26064f-5)\n",
       " Gray{Float32}(1.19805f-5)      Gray{Float32}(8.43406f-6)\n",
       " Gray{Float32}(0.000302464)  …  Gray{Float32}(0.000135154)\n",
       " Gray{Float32}(0.000323534)     Gray{Float32}(0.000224799)"
      ]
     },
     "metadata": {},
     "output_type": "display_data"
    },
    {
     "data": {
      "text/plain": [
       "4×4 Matrix{Int64}:\n",
       " 2  9  8  6\n",
       " 5  2  2  8\n",
       " 0  2  2  6\n",
       " 5  6  8  2"
      ]
     },
     "metadata": {},
     "output_type": "display_data"
    },
    {
     "data": {
      "image/png": "[encoded data removed]",
      "text/html": [
       "<img src=\"data:image/png;base64,iVBORw0KGgoAAAANSUhEUgAAAHAAAABwCAAAAADji6uXAAAAAXNSR0IArs4c6QAAAARnQU1BAACxjwv8YQUAAAAgY0hSTQAAeiYAAICEAAD6AAAAgOgAAHUwAADqYAAAOpgAABdwnLpRPAAAAK9JREFUaAW9wTEBAAAAQDCH/pm1sMlMZjKTmcxkJjOZyUxmMpOZzGQmM5nJTGYyk5nMZCYzmclMZjKTmcxkJjOZyUxmMpOZzGQmM5nJTGYyk5nMZCYzmclMZjKTmcxkJjOZyUxmMpOZzGQmM5nJTGYyk5nMZCYzmclMZjKTmcxkJjOZyUxmMpOZzGQmM5nJTGYyk5nMZCYzmclMZjKTmcxkJjOZyUxmMpOZzGQmM5kF2NUBwV2YjfcAAAAASUVORK5C\">"
      ],
      "text/plain": [
       "112×112 Array{Gray{Float32},2} with eltype Gray{Float32}:\n",
       " Gray{Float32}(7.78437f-5)  …  Gray{Float32}(0.000168473)\n",
       " Gray{Float32}(7.62939f-6)     Gray{Float32}(3.54052f-5)\n",
       " Gray{Float32}(1.13249f-6)     Gray{Float32}(5.87106f-6)\n",
       " Gray{Float32}(4.76837f-7)     Gray{Float32}(2.20537f-6)\n",
       " Gray{Float32}(9.44734f-6)     Gray{Float32}(1.54972f-6)\n",
       " Gray{Float32}(2.08616f-7)  …  Gray{Float32}(2.68221f-7)\n",
       " Gray{Float32}(5.66244f-7)     Gray{Float32}(4.17233f-7)\n",
       " Gray{Float32}(8.64267f-7)     Gray{Float32}(2.08616f-7)\n",
       " Gray{Float32}(5.96046f-7)     Gray{Float32}(3.09944f-6)\n",
       " Gray{Float32}(1.46031f-6)     Gray{Float32}(2.98023f-7)\n",
       " ⋮                          ⋱  \n",
       " Gray{Float32}(2.98023f-7)     Gray{Float32}(2.98023f-7)\n",
       " Gray{Float32}(1.93715f-6)     Gray{Float32}(5.126f-6)\n",
       " Gray{Float32}(7.15256f-7)  …  Gray{Float32}(0.0)\n",
       " Gray{Float32}(4.76837f-7)     Gray{Float32}(1.49012f-7)\n",
       " Gray{Float32}(1.10269f-6)     Gray{Float32}(1.49012f-7)\n",
       " Gray{Float32}(1.04308f-5)     Gray{Float32}(8.9407f-7)\n",
       " Gray{Float32}(1.13249f-6)     Gray{Float32}(2.38419f-7)\n",
       " Gray{Float32}(1.5378f-5)   …  Gray{Float32}(2.80142f-6)\n",
       " Gray{Float32}(2.83122f-5)     Gray{Float32}(8.61287f-6)"
      ]
     },
     "metadata": {},
     "output_type": "display_data"
    },
    {
     "data": {
      "text/plain": [
       "4×4 Matrix{Int64}:\n",
       " 2  9  8  6\n",
       " 5  2  2  8\n",
       " 0  2  2  6\n",
       " 5  6  8  2"
      ]
     },
     "metadata": {},
     "output_type": "display_data"
    },
    {
     "data": {
      "image/png": "[encoded data removed]",
      "text/html": [
       "<img src=\"data:image/png;base64,iVBORw0KGgoAAAANSUhEUgAAAHAAAABwCAAAAADji6uXAAAAAXNSR0IArs4c6QAAAARnQU1BAACxjwv8YQUAAAAgY0hSTQAAeiYAAICEAAD6AAAAgOgAAHUwAADqYAAAOpgAABdwnLpRPAAAAK9JREFUaAW9wTEBAAAAQDCH/pm1sMlMZjKTmcxkJjOZyUxmMpOZzGQmM5nJTGYyk5nMZCYzmclMZjKTmcxkJjOZyUxmMpOZzGQmM5nJTGYyk5nMZCYzmclMZjKTmcxkJjOZyUxmMpOZzGQmM5nJTGYyk5nMZCYzmclMZjKTmcxkJjOZyUxmMpOZzGQmM5nJTGYyk5nMZCYzmclMZjKTmcxkJjOZyUxmMpOZzGQmM5kF2NUBwV2YjfcAAAAASUVORK5C\">"
      ],
      "text/plain": [
       "112×112 Array{Gray{Float32},2} with eltype Gray{Float32}:\n",
       " Gray{Float32}(2.05636f-6)  …  Gray{Float32}(1.48416f-5)\n",
       " Gray{Float32}(1.43051f-6)     Gray{Float32}(4.17233f-6)\n",
       " Gray{Float32}(2.68221f-7)     Gray{Float32}(9.53674f-7)\n",
       " Gray{Float32}(2.68221f-7)     Gray{Float32}(6.85453f-7)\n",
       " Gray{Float32}(1.78814f-7)     Gray{Float32}(0.0)\n",
       " Gray{Float32}(0.0)         …  Gray{Float32}(1.19209f-7)\n",
       " Gray{Float32}(0.0)            Gray{Float32}(0.0)\n",
       " Gray{Float32}(0.0)            Gray{Float32}(0.0)\n",
       " Gray{Float32}(0.0)            Gray{Float32}(0.0)\n",
       " Gray{Float32}(0.0)            Gray{Float32}(0.0)\n",
       " ⋮                          ⋱  \n",
       " Gray{Float32}(9.83477f-7)     Gray{Float32}(0.0)\n",
       " Gray{Float32}(1.19209f-7)     Gray{Float32}(1.19209f-7)\n",
       " Gray{Float32}(0.0)         …  Gray{Float32}(0.0)\n",
       " Gray{Float32}(0.0)            Gray{Float32}(0.0)\n",
       " Gray{Float32}(1.49012f-7)     Gray{Float32}(0.0)\n",
       " Gray{Float32}(2.98023f-7)     Gray{Float32}(0.0)\n",
       " Gray{Float32}(5.96046f-8)     Gray{Float32}(0.0)\n",
       " Gray{Float32}(1.13249f-6)  …  Gray{Float32}(5.66244f-7)\n",
       " Gray{Float32}(3.72529f-6)     Gray{Float32}(2.11596f-6)"
      ]
     },
     "metadata": {},
     "output_type": "display_data"
    },
    {
     "data": {
      "text/plain": [
       "4×4 Matrix{Int64}:\n",
       " 2  9  8  6\n",
       " 5  2  2  8\n",
       " 0  2  2  6\n",
       " 5  6  8  2"
      ]
     },
     "metadata": {},
     "output_type": "display_data"
    },
    {
     "data": {
      "image/png": "[encoded data removed]",
      "text/html": [
       "<img src=\"data:image/png;base64,iVBORw0KGgoAAAANSUhEUgAAAHAAAABwCAAAAADji6uXAAAAAXNSR0IArs4c6QAAAARnQU1BAACxjwv8YQUAAAAgY0hSTQAAeiYAAICEAAD6AAAAgOgAAHUwAADqYAAAOpgAABdwnLpRPAAAAK9JREFUaAW9wTEBAAAAQDCH/pm1sMlMZjKTmcxkJjOZyUxmMpOZzGQmM5nJTGYyk5nMZCYzmclMZjKTmcxkJjOZyUxmMpOZzGQmM5nJTGYyk5nMZCYzmclMZjKTmcxkJjOZyUxmMpOZzGQmM5nJTGYyk5nMZCYzmclMZjKTmcxkJjOZyUxmMpOZzGQmM5nJTGYyk5nMZCYzmclMZjKTmcxkJjOZyUxmMpOZzGQmM5kF2NUBwV2YjfcAAAAASUVORK5C\">"
      ],
      "text/plain": [
       "112×112 Array{Gray{Float32},2} with eltype Gray{Float32}:\n",
       " Gray{Float32}(1.43051f-6)  …  Gray{Float32}(2.02656f-6)\n",
       " Gray{Float32}(3.8743f-7)      Gray{Float32}(3.27826f-7)\n",
       " Gray{Float32}(0.0)            Gray{Float32}(0.0)\n",
       " Gray{Float32}(0.0)            Gray{Float32}(0.0)\n",
       " Gray{Float32}(0.0)            Gray{Float32}(0.0)\n",
       " Gray{Float32}(0.0)         …  Gray{Float32}(0.0)\n",
       " Gray{Float32}(0.0)            Gray{Float32}(0.0)\n",
       " Gray{Float32}(0.0)            Gray{Float32}(0.0)\n",
       " Gray{Float32}(0.0)            Gray{Float32}(0.0)\n",
       " Gray{Float32}(0.0)            Gray{Float32}(0.0)\n",
       " ⋮                          ⋱  \n",
       " Gray{Float32}(0.0)            Gray{Float32}(0.0)\n",
       " Gray{Float32}(0.0)            Gray{Float32}(0.0)\n",
       " Gray{Float32}(0.0)         …  Gray{Float32}(0.0)\n",
       " Gray{Float32}(0.0)            Gray{Float32}(0.0)\n",
       " Gray{Float32}(0.0)            Gray{Float32}(0.0)\n",
       " Gray{Float32}(0.0)            Gray{Float32}(0.0)\n",
       " Gray{Float32}(0.0)            Gray{Float32}(0.0)\n",
       " Gray{Float32}(2.08616f-7)  …  Gray{Float32}(1.78814f-7)\n",
       " Gray{Float32}(6.25849f-7)     Gray{Float32}(2.98023f-7)"
      ]
     },
     "metadata": {},
     "output_type": "display_data"
    },
    {
     "data": {
      "text/plain": [
       "4×4 Matrix{Int64}:\n",
       " 2  9  8  6\n",
       " 5  2  2  8\n",
       " 0  2  2  6\n",
       " 5  6  8  2"
      ]
     },
     "metadata": {},
     "output_type": "display_data"
    },
    {
     "data": {
      "image/png": "[encoded data removed]",
      "text/html": [
       "<img src=\"data:image/png;base64,iVBORw0KGgoAAAANSUhEUgAAAHAAAABwCAAAAADji6uXAAAAAXNSR0IArs4c6QAAAARnQU1BAACxjwv8YQUAAAAgY0hSTQAAeiYAAICEAAD6AAAAgOgAAHUwAADqYAAAOpgAABdwnLpRPAAAAK9JREFUaAW9wTEBAAAAQDCH/pm1sMlMZjKTmcxkJjOZyUxmMpOZzGQmM5nJTGYyk5nMZCYzmclMZjKTmcxkJjOZyUxmMpOZzGQmM5nJTGYyk5nMZCYzmclMZjKTmcxkJjOZyUxmMpOZzGQmM5nJTGYyk5nMZCYzmclMZjKTmcxkJjOZyUxmMpOZzGQmM5nJTGYyk5nMZCYzmclMZjKTmcxkJjOZyUxmMpOZzGQmM5kF2NUBwV2YjfcAAAAASUVORK5C\">"
      ],
      "text/plain": [
       "112×112 Array{Gray{Float32},2} with eltype Gray{Float32}:\n",
       " Gray{Float32}(3.57628f-7)  Gray{Float32}(0.0)  …  Gray{Float32}(2.08616f-7)\n",
       " Gray{Float32}(0.0)         Gray{Float32}(0.0)     Gray{Float32}(0.0)\n",
       " Gray{Float32}(0.0)         Gray{Float32}(0.0)     Gray{Float32}(0.0)\n",
       " Gray{Float32}(0.0)         Gray{Float32}(0.0)     Gray{Float32}(0.0)\n",
       " Gray{Float32}(0.0)         Gray{Float32}(0.0)     Gray{Float32}(0.0)\n",
       " Gray{Float32}(0.0)         Gray{Float32}(0.0)  …  Gray{Float32}(0.0)\n",
       " Gray{Float32}(0.0)         Gray{Float32}(0.0)     Gray{Float32}(0.0)\n",
       " Gray{Float32}(0.0)         Gray{Float32}(0.0)     Gray{Float32}(0.0)\n",
       " Gray{Float32}(0.0)         Gray{Float32}(0.0)     Gray{Float32}(0.0)\n",
       " Gray{Float32}(0.0)         Gray{Float32}(0.0)     Gray{Float32}(0.0)\n",
       " ⋮                                              ⋱  \n",
       " Gray{Float32}(0.0)         Gray{Float32}(0.0)     Gray{Float32}(0.0)\n",
       " Gray{Float32}(0.0)         Gray{Float32}(0.0)     Gray{Float32}(0.0)\n",
       " Gray{Float32}(0.0)         Gray{Float32}(0.0)  …  Gray{Float32}(0.0)\n",
       " Gray{Float32}(0.0)         Gray{Float32}(0.0)     Gray{Float32}(0.0)\n",
       " Gray{Float32}(0.0)         Gray{Float32}(0.0)     Gray{Float32}(0.0)\n",
       " Gray{Float32}(0.0)         Gray{Float32}(0.0)     Gray{Float32}(0.0)\n",
       " Gray{Float32}(0.0)         Gray{Float32}(0.0)     Gray{Float32}(0.0)\n",
       " Gray{Float32}(0.0)         Gray{Float32}(0.0)  …  Gray{Float32}(0.0)\n",
       " Gray{Float32}(2.38419f-7)  Gray{Float32}(0.0)     Gray{Float32}(0.0)"
      ]
     },
     "metadata": {},
     "output_type": "display_data"
    },
    {
     "data": {
      "text/plain": [
       "4×4 Matrix{Int64}:\n",
       " 2  9  8  6\n",
       " 5  2  2  8\n",
       " 0  2  2  6\n",
       " 5  6  8  2"
      ]
     },
     "metadata": {},
     "output_type": "display_data"
    },
    {
     "data": {
      "image/png": "[encoded data removed]",
      "text/html": [
       "<img src=\"data:image/png;base64,iVBORw0KGgoAAAANSUhEUgAAAHAAAABwCAAAAADji6uXAAAAAXNSR0IArs4c6QAAAARnQU1BAACxjwv8YQUAAAAgY0hSTQAAeiYAAICEAAD6AAAAgOgAAHUwAADqYAAAOpgAABdwnLpRPAAAAK9JREFUaAW9wTEBAAAAQDCH/pm1sMlMZjKTmcxkJjOZyUxmMpOZzGQmM5nJTGYyk5nMZCYzmclMZjKTmcxkJjOZyUxmMpOZzGQmM5nJTGYyk5nMZCYzmclMZjKTmcxkJjOZyUxmMpOZzGQmM5nJTGYyk5nMZCYzmclMZjKTmcxkJjOZyUxmMpOZzGQmM5nJTGYyk5nMZCYzmclMZjKTmcxkJjOZyUxmMpOZzGQmM5kF2NUBwV2YjfcAAAAASUVORK5C\">"
      ],
      "text/plain": [
       "112×112 Array{Gray{Float32},2} with eltype Gray{Float32}:\n",
       " Gray{Float32}(0.0)  Gray{Float32}(0.0)  …  Gray{Float32}(3.27826f-7)\n",
       " Gray{Float32}(0.0)  Gray{Float32}(0.0)     Gray{Float32}(0.0)\n",
       " Gray{Float32}(0.0)  Gray{Float32}(0.0)     Gray{Float32}(0.0)\n",
       " Gray{Float32}(0.0)  Gray{Float32}(0.0)     Gray{Float32}(0.0)\n",
       " Gray{Float32}(0.0)  Gray{Float32}(0.0)     Gray{Float32}(0.0)\n",
       " Gray{Float32}(0.0)  Gray{Float32}(0.0)  …  Gray{Float32}(0.0)\n",
       " Gray{Float32}(0.0)  Gray{Float32}(0.0)     Gray{Float32}(0.0)\n",
       " Gray{Float32}(0.0)  Gray{Float32}(0.0)     Gray{Float32}(0.0)\n",
       " Gray{Float32}(0.0)  Gray{Float32}(0.0)     Gray{Float32}(0.0)\n",
       " Gray{Float32}(0.0)  Gray{Float32}(0.0)     Gray{Float32}(0.0)\n",
       " ⋮                                       ⋱  \n",
       " Gray{Float32}(0.0)  Gray{Float32}(0.0)     Gray{Float32}(0.0)\n",
       " Gray{Float32}(0.0)  Gray{Float32}(0.0)     Gray{Float32}(0.0)\n",
       " Gray{Float32}(0.0)  Gray{Float32}(0.0)  …  Gray{Float32}(0.0)\n",
       " Gray{Float32}(0.0)  Gray{Float32}(0.0)     Gray{Float32}(0.0)\n",
       " Gray{Float32}(0.0)  Gray{Float32}(0.0)     Gray{Float32}(0.0)\n",
       " Gray{Float32}(0.0)  Gray{Float32}(0.0)     Gray{Float32}(0.0)\n",
       " Gray{Float32}(0.0)  Gray{Float32}(0.0)     Gray{Float32}(0.0)\n",
       " Gray{Float32}(0.0)  Gray{Float32}(0.0)  …  Gray{Float32}(0.0)\n",
       " Gray{Float32}(0.0)  Gray{Float32}(0.0)     Gray{Float32}(0.0)"
      ]
     },
     "metadata": {},
     "output_type": "display_data"
    },
    {
     "data": {
      "text/plain": [
       "4×4 Matrix{Int64}:\n",
       " 2  9  8  6\n",
       " 5  2  2  8\n",
       " 0  2  2  6\n",
       " 5  6  8  2"
      ]
     },
     "metadata": {},
     "output_type": "display_data"
    },
    {
     "data": {
      "image/png": "[encoded data removed]",
      "text/html": [
       "<img src=\"data:image/png;base64,iVBORw0KGgoAAAANSUhEUgAAAHAAAABwCAAAAADji6uXAAAAAXNSR0IArs4c6QAAAARnQU1BAACxjwv8YQUAAAAgY0hSTQAAeiYAAICEAAD6AAAAgOgAAHUwAADqYAAAOpgAABdwnLpRPAAAAK9JREFUaAW9wTEBAAAAQDCH/pm1sMlMZjKTmcxkJjOZyUxmMpOZzGQmM5nJTGYyk5nMZCYzmclMZjKTmcxkJjOZyUxmMpOZzGQmM5nJTGYyk5nMZCYzmclMZjKTmcxkJjOZyUxmMpOZzGQmM5nJTGYyk5nMZCYzmclMZjKTmcxkJjOZyUxmMpOZzGQmM5nJTGYyk5nMZCYzmclMZjKTmcxkJjOZyUxmMpOZzGQmM5kF2NUBwV2YjfcAAAAASUVORK5C\">"
      ],
      "text/plain": [
       "112×112 Array{Gray{Float32},2} with eltype Gray{Float32}:\n",
       " Gray{Float32}(1.49012f-7)  Gray{Float32}(0.0)  …  Gray{Float32}(2.08616f-7)\n",
       " Gray{Float32}(0.0)         Gray{Float32}(0.0)     Gray{Float32}(0.0)\n",
       " Gray{Float32}(0.0)         Gray{Float32}(0.0)     Gray{Float32}(0.0)\n",
       " Gray{Float32}(0.0)         Gray{Float32}(0.0)     Gray{Float32}(0.0)\n",
       " Gray{Float32}(0.0)         Gray{Float32}(0.0)     Gray{Float32}(0.0)\n",
       " Gray{Float32}(0.0)         Gray{Float32}(0.0)  …  Gray{Float32}(0.0)\n",
       " Gray{Float32}(0.0)         Gray{Float32}(0.0)     Gray{Float32}(0.0)\n",
       " Gray{Float32}(0.0)         Gray{Float32}(0.0)     Gray{Float32}(0.0)\n",
       " Gray{Float32}(0.0)         Gray{Float32}(0.0)     Gray{Float32}(0.0)\n",
       " Gray{Float32}(0.0)         Gray{Float32}(0.0)     Gray{Float32}(0.0)\n",
       " ⋮                                              ⋱  \n",
       " Gray{Float32}(0.0)         Gray{Float32}(0.0)     Gray{Float32}(0.0)\n",
       " Gray{Float32}(0.0)         Gray{Float32}(0.0)     Gray{Float32}(0.0)\n",
       " Gray{Float32}(0.0)         Gray{Float32}(0.0)  …  Gray{Float32}(0.0)\n",
       " Gray{Float32}(0.0)         Gray{Float32}(0.0)     Gray{Float32}(0.0)\n",
       " Gray{Float32}(0.0)         Gray{Float32}(0.0)     Gray{Float32}(0.0)\n",
       " Gray{Float32}(0.0)         Gray{Float32}(0.0)     Gray{Float32}(0.0)\n",
       " Gray{Float32}(0.0)         Gray{Float32}(0.0)     Gray{Float32}(0.0)\n",
       " Gray{Float32}(0.0)         Gray{Float32}(0.0)  …  Gray{Float32}(0.0)\n",
       " Gray{Float32}(0.0)         Gray{Float32}(0.0)     Gray{Float32}(0.0)"
      ]
     },
     "metadata": {},
     "output_type": "display_data"
    }
   ],
   "source": [
    "noise = [randn(Float32,latent_dim, 1) for i=1:16] \n",
    "labels = [float32.(Flux.onehotbatch(rand(0:9, 1), 0:9)) for i =1:16];\n",
    "@info(\"Beginning training loop...\")\n",
    "for epoch = 1:10\n",
    "    d_loss,g_loss = Inf, Inf\n",
    "    @info \"Epoch $epoch\"\n",
    "    display(reduce(vcat, reduce.(hcat, partition(Flux.onecold.(labels), 4))) .- 1)\n",
    "    display(sample(noise,labels))\n",
    "    for (x, labels) in dataset\n",
    "        latents = randn(Float32,(latent_dim, batch_size)) |> device        \n",
    "        y = Float32.(Flux.onehotbatch(rand(0:9, batch_size), 0:9)) |> device        \n",
    "        ps = params(g_labels, g_latent, g_common)\n",
    "        g_loss, back = Zygote.pullback(ps) do                       \n",
    "            fake = generator(y, latents)\n",
    "            d_loss = train_discriminator(fake, y, x, labels, opt_dscr)          \n",
    "            generator_loss(discriminator(y, fake))             \n",
    "        end\n",
    "        grads = back(1f0)\n",
    "        Flux.Optimise.update!(opt_gen, ps, grads)\n",
    "    end\n",
    "    @info(\"Epoch: $epoch, Discriminator loss = $d_loss, Generator loss = $g_loss\")\n",
    "    model_params = cpu(Flux.state((d_labels, d_common, g_labels, g_latent, g_common)))\n",
    "    BSON.@save \"CDGAN_MNIST_extrahomework.bson\" model_params \n",
    "end"
   ]
  },
  {
   "cell_type": "markdown",
   "metadata": {},
   "source": [
    "### Question 6:"
   ]
  },
  {
   "cell_type": "markdown",
   "metadata": {},
   "source": [
    "<b> Instead of assuming prior Gaussian distribution on the latent variables, use the Binomial (Bernoulli) distribution. Retrain the model, how does the change impact the results? </b> <b>(12 points)</b>"
   ]
  }
 ],
 "metadata": {
  "kernelspec": {
   "display_name": "Julia 1.11.2",
   "language": "julia",
   "name": "julia-1.11"
  },
  "language_info": {
   "file_extension": ".jl",
   "mimetype": "application/julia",
   "name": "julia",
   "version": "1.11.2"
  }
 },
 "nbformat": 4,
 "nbformat_minor": 2
}
